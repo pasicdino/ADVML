{
  "nbformat": 4,
  "nbformat_minor": 0,
  "metadata": {
    "colab": {
      "provenance": []
    },
    "kernelspec": {
      "name": "python3",
      "display_name": "Python 3"
    },
    "language_info": {
      "name": "python"
    }
  },
  "cells": [
    {
      "cell_type": "code",
      "execution_count": 60,
      "metadata": {
        "id": "-lydLt2-6KWZ"
      },
      "outputs": [],
      "source": [
        "import torch\n",
        "import torchvision\n",
        "import torchvision.datasets as datasets\n",
        "from torch.utils.data import ConcatDataset\n",
        "from torch.utils.data import random_split\n",
        "import torchvision.transforms as transforms\n",
        "from torch.utils.data import DataLoader\n",
        "import torch.optim as optim"
      ]
    },
    {
      "cell_type": "code",
      "source": [
        "transform = transforms.Compose([transforms.ToTensor()])\n",
        "dataset = ConcatDataset([datasets.CIFAR10(root='./data', train=True, download=True, transform=transform)])\n",
        "\n",
        "# Calculating mean and standard deviation for this dataset\n",
        "mean = torch.zeros(3)\n",
        "std = torch.zeros(3)\n",
        "for img, _ in dataset:\n",
        "  mean += img.mean([1,2])\n",
        "  std += img.std([1,2])\n",
        "mean /= len(dataset)\n",
        "std /= len(dataset)\n",
        "\n",
        "print(f\"Mean: {mean}\")\n",
        "print(f\"Standart Deviation: {std}\")\n",
        "\n",
        "# Reinitializing the dataset with normalization\n",
        "transform = transforms.Compose([transforms.ToTensor(), transforms.Normalize(mean=mean.tolist(), std=std.tolist())])\n",
        "dataset = ConcatDataset([datasets.CIFAR10(root='./data', train=True, download=False, transform=transform)])"
      ],
      "metadata": {
        "id": "kgNxrms46dNI",
        "colab": {
          "base_uri": "https://localhost:8080/"
        },
        "outputId": "6940c4eb-18a3-4d78-ab79-a6ca0ed85ccf"
      },
      "execution_count": 71,
      "outputs": [
        {
          "output_type": "stream",
          "name": "stdout",
          "text": [
            "Files already downloaded and verified\n",
            "Mean: tensor([0.4914, 0.4822, 0.4465])\n",
            "Standart Deviation: tensor([0.2023, 0.1994, 0.2010])\n"
          ]
        }
      ]
    },
    {
      "cell_type": "code",
      "source": [
        "total_size = len(dataset)\n",
        "train_size = int(total_size * 0.8)\n",
        "test_size = int(total_size * 0.1)\n",
        "val_size = total_size - train_size - test_size\n",
        "\n",
        "trainset, testset, valset = random_split(dataset, [train_size, test_size, val_size])\n",
        "\n",
        "batch_size = 2**7\n",
        "train_loader = DataLoader(trainset, batch_size=batch_size, shuffle=True) # to ensure that the model remains general and does not overfit to the specific sequence of data\n",
        "test_loader = DataLoader(testset, batch_size=batch_size, shuffle=False)\n",
        "val_loader = DataLoader(valset, batch_size=batch_size, shuffle=False)"
      ],
      "metadata": {
        "id": "C09mzQiW_deJ"
      },
      "execution_count": 72,
      "outputs": []
    },
    {
      "cell_type": "code",
      "source": [
        "import torch.nn as nn\n",
        "\n",
        "class ConvAutoencoder(nn.Module):\n",
        "    def __init__(self):\n",
        "        super(ConvAutoencoder, self).__init__()\n",
        "\n",
        "        # Encoder\n",
        "        self.encoder = nn.Sequential(\n",
        "            # First Convolutional Layer (Input: 32x32x3, Output: 32x32x8)\n",
        "            nn.Conv2d(3, 8, 3, stride=1, padding=1),\n",
        "            nn.ReLU(),\n",
        "            nn.MaxPool2d(2, 2),  # First Max Pooling (Output: 16x16x8)\n",
        "\n",
        "            # Second Convolutional Layer (Output: 16x16x12)\n",
        "            nn.Conv2d(8, 12, 3, stride=1, padding=1),\n",
        "            nn.ReLU(),\n",
        "            nn.MaxPool2d(2, 2),  # Second Max Pooling (Output: 8x8x12)\n",
        "\n",
        "            # Third Convolutional Layer (Output: 8x8x16)\n",
        "            nn.Conv2d(12, 16, 3, stride=1, padding=1),\n",
        "            nn.ReLU()\n",
        "        )\n",
        "\n",
        "        # Decoder\n",
        "        self.decoder = nn.Sequential(\n",
        "            # First Upsampling (Input: 8x8x16, Output: 16x16x16)\n",
        "            nn.ConvTranspose2d(16, 12, 2, stride=2),\n",
        "            nn.ReLU(),\n",
        "\n",
        "            # Fourth Convolutional Layer (Output: 16x16x12)\n",
        "            nn.Conv2d(12, 12, 3, stride=1, padding=1),\n",
        "            nn.ReLU(),\n",
        "\n",
        "            # Second Upsampling (Output: 32x32x12)\n",
        "            nn.ConvTranspose2d(12, 8, 2, stride=2),\n",
        "            nn.ReLU(),\n",
        "\n",
        "            # Fifth Convolutional Layer (Output: 32x32x3)\n",
        "            nn.Conv2d(8, 3, 3, stride=1, padding=1),\n",
        "            # nn.Sigmoid()  or nn.Tanh() # but the input images are not normalized between 0(-1) and 1\n",
        "        )\n",
        "\n",
        "    def forward(self, x):\n",
        "        x = self.encoder(x)\n",
        "        x = self.decoder(x)\n",
        "        return x\n"
      ],
      "metadata": {
        "id": "2TbZiHOGE8sY"
      },
      "execution_count": 73,
      "outputs": []
    },
    {
      "cell_type": "code",
      "source": [
        "# Initializing the model\n",
        "model = ConvAutoencoder()\n",
        "\n",
        "criterion = nn.MSELoss() # Loss function\n",
        "\n",
        "optimizer = optim.Adam(model.parameters(), lr=0.001)\n",
        "\n",
        "if torch.cuda.is_available():\n",
        "    model = model.cuda()"
      ],
      "metadata": {
        "id": "33yLV77XK14W"
      },
      "execution_count": 74,
      "outputs": []
    },
    {
      "cell_type": "code",
      "source": [
        "num_epochs = 10\n",
        "train_losses = []\n",
        "val_losses = []\n",
        "\n",
        "for epoch in range(num_epochs):\n",
        "    # Training\n",
        "    model.train()\n",
        "    train_loss = 0.0\n",
        "    for data in train_loader:\n",
        "        inputs, _ = data\n",
        "        if torch.cuda.is_available():\n",
        "            inputs = inputs.cuda()\n",
        "\n",
        "        optimizer.zero_grad()\n",
        "\n",
        "        # Forward pass\n",
        "        outputs = model(inputs)\n",
        "        loss = criterion(outputs, inputs)\n",
        "\n",
        "        # Backward pass and optimize\n",
        "        loss.backward()\n",
        "        optimizer.step()\n",
        "\n",
        "        train_loss += loss.item()\n",
        "\n",
        "    train_loss /= len(train_loader)\n",
        "    train_losses.append(train_loss)\n",
        "    print(f'Epoch [{epoch+1}/{num_epochs}], Training Loss: {train_loss:.4f}')\n",
        "\n",
        "    # Validation\n",
        "    model.eval()\n",
        "    validation_loss = 0.0\n",
        "    with torch.no_grad():\n",
        "        for inputs, _ in val_loader:\n",
        "            if torch.cuda.is_available():\n",
        "                inputs = inputs.cuda()\n",
        "\n",
        "            outputs = model(inputs)\n",
        "            loss = criterion(outputs, inputs)\n",
        "            validation_loss += loss.item()\n",
        "\n",
        "        validation_loss /= len(val_loader)\n",
        "        val_losses.append(validation_loss)\n",
        "        print(f'Validation Loss after epoch {epoch+1}: {validation_loss:.4f}')"
      ],
      "metadata": {
        "colab": {
          "base_uri": "https://localhost:8080/"
        },
        "id": "2fa4X8VMgZJr",
        "outputId": "dd8e8e0e-3f57-419f-eebb-83e3cf7a9b23"
      },
      "execution_count": 76,
      "outputs": [
        {
          "output_type": "stream",
          "name": "stdout",
          "text": [
            "Epoch [1/10], Training Loss: 0.2919\n",
            "Validation Loss after epoch 1: 0.2866\n",
            "Epoch [2/10], Training Loss: 0.2833\n",
            "Validation Loss after epoch 2: 0.2780\n",
            "Epoch [3/10], Training Loss: 0.2747\n",
            "Validation Loss after epoch 3: 0.2718\n",
            "Epoch [4/10], Training Loss: 0.2592\n",
            "Validation Loss after epoch 4: 0.2399\n",
            "Epoch [5/10], Training Loss: 0.2282\n",
            "Validation Loss after epoch 5: 0.2134\n",
            "Epoch [6/10], Training Loss: 0.2115\n",
            "Validation Loss after epoch 6: 0.2038\n",
            "Epoch [7/10], Training Loss: 0.2021\n",
            "Validation Loss after epoch 7: 0.1975\n",
            "Epoch [8/10], Training Loss: 0.1988\n",
            "Validation Loss after epoch 8: 0.1928\n",
            "Epoch [9/10], Training Loss: 0.1920\n",
            "Validation Loss after epoch 9: 0.1884\n",
            "Epoch [10/10], Training Loss: 0.1886\n",
            "Validation Loss after epoch 10: 0.1842\n"
          ]
        }
      ]
    },
    {
      "cell_type": "code",
      "source": [
        "import matplotlib.pyplot as plt\n",
        "\n",
        "epochs = range(1, 11)\n",
        "\n",
        "plt.figure(figsize=(8, 5))\n",
        "plt.plot(epochs, train_losses, label='Training loss')\n",
        "plt.plot(epochs, val_losses, label='Validation loss')\n",
        "plt.title('Training and validation loss over epochs')\n",
        "plt.xlabel('Epoch')\n",
        "plt.ylabel('Loss')\n",
        "plt.legend()\n",
        "plt.grid(True)\n",
        "plt.show()\n"
      ],
      "metadata": {
        "colab": {
          "base_uri": "https://localhost:8080/",
          "height": 487
        },
        "id": "uQfBFmJamvHA",
        "outputId": "cbf0e6bd-a855-4fd7-fd97-ea2cafcbe758"
      },
      "execution_count": 81,
      "outputs": [
        {
          "output_type": "display_data",
          "data": {
            "text/plain": [
              "<Figure size 800x500 with 1 Axes>"
            ],
            "image/png": "[encoded data removed]"
          },
          "metadata": {}
        }
      ]
    },
    {
      "cell_type": "code",
      "source": [
        "model.eval()\n",
        "test_loss = 0.0\n",
        "with torch.no_grad():\n",
        "    for inputs, _ in test_loader:\n",
        "        if torch.cuda.is_available():\n",
        "            inputs = inputs.cuda()\n",
        "\n",
        "        outputs = model(inputs)\n",
        "        loss = criterion(outputs, inputs)\n",
        "        test_loss += loss.item()\n",
        "\n",
        "    test_loss /= len(test_loader)\n",
        "    print(f'Test Loss: {test_loss:.4f}')"
      ],
      "metadata": {
        "colab": {
          "base_uri": "https://localhost:8080/"
        },
        "id": "6MjXcqaRjO6Y",
        "outputId": "00626c71-4714-4ee5-e319-2f8001696181"
      },
      "execution_count": 82,
      "outputs": [
        {
          "output_type": "stream",
          "name": "stdout",
          "text": [
            "Test Loss: 0.1859\n"
          ]
        }
      ]
    },
    {
      "cell_type": "code",
      "source": [
        "# Exercise 2 (a)\n",
        "\n",
        "LSR_volume = 16\n",
        "LSR_kernel = 3\n",
        "LSR_padding = 1\n",
        "LSR_stride = 1\n",
        "LSR_channels = 16\n",
        "\n",
        "LSR_size = LSR_channels * ((LSR_volume - LSR_kernel + 2 * LSR_padding) / LSR_stride + 1) ** 2\n",
        "print(f'Size of Latent Space Representation is {int(LSR_size)}')"
      ],
      "metadata": {
        "colab": {
          "base_uri": "https://localhost:8080/"
        },
        "id": "nmBQzbw9l1fR",
        "outputId": "6c814bcb-ad09-4b4b-fb54-0bd965f10cd6"
      },
      "execution_count": 80,
      "outputs": [
        {
          "output_type": "stream",
          "name": "stdout",
          "text": [
            "Size of LSR is 4096\n"
          ]
        }
      ]
    },
    {
      "cell_type": "code",
      "source": [],
      "metadata": {
        "id": "T3kUPoGAt-UN"
      },
      "execution_count": null,
      "outputs": []
    }
  ]
}