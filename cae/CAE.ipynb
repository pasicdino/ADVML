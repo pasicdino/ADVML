{
  "nbformat": 4,
  "nbformat_minor": 0,
  "metadata": {
    "colab": {
      "provenance": []
    },
    "kernelspec": {
      "name": "python3",
      "display_name": "Python 3"
    },
    "language_info": {
      "name": "python"
    }
  },
  "cells": [
    {
      "cell_type": "code",
      "execution_count": 2,
      "metadata": {
        "id": "-lydLt2-6KWZ"
      },
      "outputs": [],
      "source": [
        "import torch\n",
        "import torchvision\n",
        "import torchvision.datasets as datasets\n",
        "from torch.utils.data import ConcatDataset\n",
        "from torch.utils.data import random_split\n",
        "import torchvision.transforms as transforms\n",
        "from torch.utils.data import DataLoader\n",
        "import torch.optim as optim"
      ]
    },
    {
      "cell_type": "code",
      "source": [
        "transform = transforms.Compose([transforms.ToTensor()])\n",
        "dataset = ConcatDataset([datasets.CIFAR10(root='./data', train=True, download=True, transform=transform)])\n",
        "\n",
        "# Calculating mean and standard deviation for this dataset\n",
        "mean = torch.zeros(3)\n",
        "std = torch.zeros(3)\n",
        "for img, _ in dataset:\n",
        "  mean += img.mean([1,2])\n",
        "  std += img.std([1,2])\n",
        "mean /= len(dataset)\n",
        "std /= len(dataset)\n",
        "\n",
        "print(f\"Mean: {mean}\")\n",
        "print(f\"Standart Deviation: {std}\")\n",
        "\n",
        "# Reinitializing the dataset with normalization\n",
        "transform = transforms.Compose([transforms.ToTensor(), transforms.Normalize(mean=mean.tolist(), std=std.tolist())])\n",
        "dataset = ConcatDataset([datasets.CIFAR10(root='./data', train=True, download=False, transform=transform)])"
      ],
      "metadata": {
        "id": "kgNxrms46dNI",
        "colab": {
          "base_uri": "https://localhost:8080/"
        },
        "outputId": "2931d113-ec41-4b10-fe39-8d03e77c34a8"
      },
      "execution_count": 3,
      "outputs": [
        {
          "output_type": "stream",
          "name": "stdout",
          "text": [
            "Downloading https://www.cs.toronto.edu/~kriz/cifar-10-python.tar.gz to ./data/cifar-10-python.tar.gz\n"
          ]
        },
        {
          "output_type": "stream",
          "name": "stderr",
          "text": [
            "100%|██████████| 170498071/170498071 [00:05<00:00, 28438275.77it/s]\n"
          ]
        },
        {
          "output_type": "stream",
          "name": "stdout",
          "text": [
            "Extracting ./data/cifar-10-python.tar.gz to ./data\n",
            "Mean: tensor([0.4914, 0.4822, 0.4465])\n",
            "Standart Deviation: tensor([0.2023, 0.1994, 0.2010])\n"
          ]
        }
      ]
    },
    {
      "cell_type": "code",
      "source": [
        "total_size = len(dataset)\n",
        "train_size = int(total_size * 0.8)\n",
        "test_size = int(total_size * 0.1)\n",
        "val_size = total_size - train_size - test_size\n",
        "\n",
        "trainset, testset, valset = random_split(dataset, [train_size, test_size, val_size])\n",
        "\n",
        "batch_size = 2**7\n",
        "train_loader = DataLoader(trainset, batch_size=batch_size, shuffle=True) # to ensure that the model remains general and does not overfit to the specific sequence of data\n",
        "test_loader = DataLoader(testset, batch_size=batch_size, shuffle=False)\n",
        "val_loader = DataLoader(valset, batch_size=batch_size, shuffle=False)"
      ],
      "metadata": {
        "id": "C09mzQiW_deJ"
      },
      "execution_count": 4,
      "outputs": []
    },
    {
      "cell_type": "code",
      "source": [
        "import torch.nn as nn\n",
        "\n",
        "class ConvAutoencoder(nn.Module):\n",
        "    def __init__(self):\n",
        "        super(ConvAutoencoder, self).__init__()\n",
        "\n",
        "        # Encoder\n",
        "        self.encoder = nn.Sequential(\n",
        "            # First Convolutional Layer (Input: 32x32x3, Output: 32x32x8)\n",
        "            nn.Conv2d(3, 8, 3, stride=1, padding=1),\n",
        "            nn.ReLU(),\n",
        "            nn.MaxPool2d(2, 2),  # First Max Pooling (Output: 16x16x8)\n",
        "\n",
        "            # Second Convolutional Layer (Output: 16x16x12)\n",
        "            nn.Conv2d(8, 12, 3, stride=1, padding=1),\n",
        "            nn.ReLU(),\n",
        "            nn.MaxPool2d(2, 2),  # Second Max Pooling (Output: 8x8x12)\n",
        "\n",
        "            # Third Convolutional Layer (Output: 8x8x16)\n",
        "            nn.Conv2d(12, 16, 3, stride=1, padding=1),\n",
        "            nn.ReLU()\n",
        "        )\n",
        "\n",
        "        # Decoder\n",
        "        self.decoder = nn.Sequential(\n",
        "            # First Upsampling (Input: 8x8x16, Output: 16x16x16)\n",
        "            nn.ConvTranspose2d(16, 12, 2, stride=2),\n",
        "            nn.ReLU(),\n",
        "\n",
        "            # Fourth Convolutional Layer (Output: 16x16x12)\n",
        "            nn.Conv2d(12, 12, 3, stride=1, padding=1),\n",
        "            nn.ReLU(),\n",
        "\n",
        "            # Second Upsampling (Output: 32x32x12)\n",
        "            nn.ConvTranspose2d(12, 8, 2, stride=2),\n",
        "            nn.ReLU(),\n",
        "\n",
        "            # Fifth Convolutional Layer (Output: 32x32x3)\n",
        "            nn.Conv2d(8, 3, 3, stride=1, padding=1),\n",
        "            # nn.Sigmoid()  or nn.Tanh() # but the input images are not normalized between 0(-1) and 1\n",
        "        )\n",
        "\n",
        "    def forward(self, x):\n",
        "        x = self.encoder(x)\n",
        "        x = self.decoder(x)\n",
        "        return x\n"
      ],
      "metadata": {
        "id": "2TbZiHOGE8sY"
      },
      "execution_count": 5,
      "outputs": []
    },
    {
      "cell_type": "code",
      "source": [
        "# Initializing the model\n",
        "model = ConvAutoencoder()\n",
        "\n",
        "criterion = nn.MSELoss() # Loss function\n",
        "\n",
        "optimizer = optim.Adam(model.parameters(), lr=0.001)\n",
        "\n",
        "if torch.cuda.is_available():\n",
        "    model = model.cuda()"
      ],
      "metadata": {
        "id": "33yLV77XK14W"
      },
      "execution_count": 6,
      "outputs": []
    },
    {
      "cell_type": "code",
      "source": [
        "num_epochs = 15\n",
        "train_losses = []\n",
        "val_losses = []\n",
        "\n",
        "for epoch in range(num_epochs):\n",
        "    # Training\n",
        "    model.train()\n",
        "    train_loss = 0.0\n",
        "    for data in train_loader:\n",
        "        inputs, _ = data\n",
        "        if torch.cuda.is_available():\n",
        "            inputs = inputs.cuda()\n",
        "\n",
        "        optimizer.zero_grad()\n",
        "\n",
        "        # Forward pass\n",
        "        outputs = model(inputs)\n",
        "        loss = criterion(outputs, inputs)\n",
        "\n",
        "        # Backward pass and optimize\n",
        "        loss.backward()\n",
        "        optimizer.step()\n",
        "\n",
        "        train_loss += loss.item()\n",
        "\n",
        "    train_loss /= len(train_loader)\n",
        "    train_losses.append(train_loss)\n",
        "    print(f'Epoch [{epoch+1}/{num_epochs}], Training Loss: {train_loss:.4f}')\n",
        "\n",
        "    # Validation\n",
        "    model.eval()\n",
        "    validation_loss = 0.0\n",
        "    with torch.no_grad():\n",
        "        for inputs, _ in val_loader:\n",
        "            if torch.cuda.is_available():\n",
        "                inputs = inputs.cuda()\n",
        "\n",
        "            outputs = model(inputs)\n",
        "            loss = criterion(outputs, inputs)\n",
        "            validation_loss += loss.item()\n",
        "\n",
        "        validation_loss /= len(val_loader)\n",
        "        val_losses.append(validation_loss)\n",
        "        print(f'Validation Loss after epoch {epoch+1}: {validation_loss:.4f}')"
      ],
      "metadata": {
        "colab": {
          "base_uri": "https://localhost:8080/"
        },
        "id": "2fa4X8VMgZJr",
        "outputId": "08eaec5e-fa5a-4688-eb39-f0c3ea816b3c"
      },
      "execution_count": 7,
      "outputs": [
        {
          "output_type": "stream",
          "name": "stdout",
          "text": [
            "Epoch [1/15], Training Loss: 0.5942\n",
            "Validation Loss after epoch 1: 0.3230\n",
            "Epoch [2/15], Training Loss: 0.2953\n",
            "Validation Loss after epoch 2: 0.2753\n",
            "Epoch [3/15], Training Loss: 0.2659\n",
            "Validation Loss after epoch 3: 0.2555\n",
            "Epoch [4/15], Training Loss: 0.2208\n",
            "Validation Loss after epoch 4: 0.1830\n",
            "Epoch [5/15], Training Loss: 0.1749\n",
            "Validation Loss after epoch 5: 0.1657\n",
            "Epoch [6/15], Training Loss: 0.1621\n",
            "Validation Loss after epoch 6: 0.1561\n",
            "Epoch [7/15], Training Loss: 0.1544\n",
            "Validation Loss after epoch 7: 0.1507\n",
            "Epoch [8/15], Training Loss: 0.1488\n",
            "Validation Loss after epoch 8: 0.1444\n",
            "Epoch [9/15], Training Loss: 0.1433\n",
            "Validation Loss after epoch 9: 0.1397\n",
            "Epoch [10/15], Training Loss: 0.1379\n",
            "Validation Loss after epoch 10: 0.1344\n",
            "Epoch [11/15], Training Loss: 0.1324\n",
            "Validation Loss after epoch 11: 0.1284\n",
            "Epoch [12/15], Training Loss: 0.1275\n",
            "Validation Loss after epoch 12: 0.1248\n",
            "Epoch [13/15], Training Loss: 0.1238\n",
            "Validation Loss after epoch 13: 0.1214\n",
            "Epoch [14/15], Training Loss: 0.1215\n",
            "Validation Loss after epoch 14: 0.1211\n",
            "Epoch [15/15], Training Loss: 0.1194\n",
            "Validation Loss after epoch 15: 0.1175\n"
          ]
        }
      ]
    },
    {
      "cell_type": "code",
      "source": [
        "import matplotlib.pyplot as plt\n",
        "\n",
        "epochs = range(1, 16)\n",
        "\n",
        "plt.figure(figsize=(8, 5))\n",
        "plt.plot(epochs, train_losses, label='Training loss')\n",
        "plt.plot(epochs, val_losses, label='Validation loss')\n",
        "plt.title('Training and validation loss over epochs')\n",
        "plt.xlabel('Epoch')\n",
        "plt.ylabel('Loss')\n",
        "plt.legend()\n",
        "plt.grid(True)\n",
        "plt.show()\n"
      ],
      "metadata": {
        "colab": {
          "base_uri": "https://localhost:8080/",
          "height": 487
        },
        "id": "uQfBFmJamvHA",
        "outputId": "64ab925d-cd06-4d9f-d735-fe6c050300c0"
      },
      "execution_count": 11,
      "outputs": [
        {
          "output_type": "display_data",
          "data": {
            "text/plain": [
              "<Figure size 800x500 with 1 Axes>"
            ],
            "image/png": "[encoded data removed]"
          },
          "metadata": {}
        }
      ]
    },
    {
      "cell_type": "code",
      "source": [
        "model.eval()\n",
        "test_loss = 0.0\n",
        "with torch.no_grad():\n",
        "    for inputs, _ in test_loader:\n",
        "        if torch.cuda.is_available():\n",
        "            inputs = inputs.cuda()\n",
        "\n",
        "        outputs = model(inputs)\n",
        "        loss = criterion(outputs, inputs)\n",
        "        test_loss += loss.item()\n",
        "\n",
        "    test_loss /= len(test_loader)\n",
        "    print(f'Test Loss: {test_loss:.4f}')"
      ],
      "metadata": {
        "colab": {
          "base_uri": "https://localhost:8080/"
        },
        "id": "6MjXcqaRjO6Y",
        "outputId": "8f22aee9-0730-4e88-faaa-6b5c3dca2e23"
      },
      "execution_count": 12,
      "outputs": [
        {
          "output_type": "stream",
          "name": "stdout",
          "text": [
            "Test Loss: 0.1175\n"
          ]
        }
      ]
    },
    {
      "cell_type": "code",
      "source": [
        "# Exercise 2(a)\n",
        "\n",
        "LSR_volume = 16\n",
        "LSR_kernel = 3\n",
        "LSR_padding = 1\n",
        "LSR_stride = 1\n",
        "LSR_channels = 16\n",
        "\n",
        "LSR_size = LSR_channels * ((LSR_volume - LSR_kernel + 2 * LSR_padding) / LSR_stride + 1) ** 2\n",
        "print(f'Size of Latent Space Representation is {int(LSR_size)}')"
      ],
      "metadata": {
        "colab": {
          "base_uri": "https://localhost:8080/"
        },
        "id": "nmBQzbw9l1fR",
        "outputId": "597eaada-8d15-489c-ad26-7db89648fde8"
      },
      "execution_count": 13,
      "outputs": [
        {
          "output_type": "stream",
          "name": "stdout",
          "text": [
            "Size of Latent Space Representation is 4096\n"
          ]
        }
      ]
    },
    {
      "cell_type": "markdown",
      "source": [
        "Exercise 2(b)\n",
        "\n",
        "Fewer number of layers most probably will simplify the model and make it less capable of capturing complex patterns in the data, what could lead to higher reconstruction errors. Additional layers will increase the model's capacity to learn features but it requires more training time and also the risks of overfitting is much higher. Let's try previous model without the third convolutional layer from the encoder and adjust the corresponding layer in the decoder.\n",
        "\n",
        "\n",
        "\n"
      ],
      "metadata": {
        "id": "x9HLgQDxDFFn"
      }
    },
    {
      "cell_type": "code",
      "source": [
        "class ConvAutoencoder2(nn.Module):\n",
        "    def __init__(self):\n",
        "        super(ConvAutoencoder2, self).__init__()\n",
        "\n",
        "        # Encoder\n",
        "        self.encoder = nn.Sequential(\n",
        "            # First Convolutional Layer (Input: 32x32x3, Output: 32x32x8)\n",
        "            nn.Conv2d(3, 8, 3, stride=1, padding=1),\n",
        "            nn.ReLU(),\n",
        "            nn.MaxPool2d(2, 2),  # First Max Pooling (Output: 16x16x8)\n",
        "\n",
        "            # Second Convolutional Layer (Output: 16x16x12)\n",
        "            nn.Conv2d(8, 12, 3, stride=1, padding=1),\n",
        "            nn.ReLU(),\n",
        "            nn.MaxPool2d(2, 2),  # Second Max Pooling (Output: 8x8x12)\n",
        "\n",
        "        )\n",
        "\n",
        "        # Decoder\n",
        "        self.decoder = nn.Sequential(\n",
        "            # First Upsampling (Input: 8x8x12, Output: 16x16x12)\n",
        "            nn.ConvTranspose2d(12, 8, 2, stride=2),\n",
        "            nn.ReLU(),\n",
        "\n",
        "            # Second Upsampling (Output: 32x32x8)\n",
        "            nn.ConvTranspose2d(8, 3, 2, stride=2),\n",
        "            nn.ReLU(),\n",
        "\n",
        "            # Adjusted Fifth Convolutional Layer (Output: 32x32x3)\n",
        "            nn.Conv2d(3, 3, 3, stride=1, padding=1),\n",
        "            # nn.Sigmoid()  or nn.Tanh() # depending on normalization\n",
        "        )\n",
        "\n",
        "    def forward(self, x):\n",
        "        x = self.encoder(x)\n",
        "        x = self.decoder(x)\n",
        "        return x"
      ],
      "metadata": {
        "id": "TBRK1UMXHU7S"
      },
      "execution_count": 14,
      "outputs": []
    },
    {
      "cell_type": "code",
      "source": [
        "# Initializing the model\n",
        "model2 = ConvAutoencoder2()\n",
        "\n",
        "criterion = nn.MSELoss() # Loss function\n",
        "\n",
        "optimizer = optim.Adam(model2.parameters(), lr=0.001)\n",
        "\n",
        "if torch.cuda.is_available():\n",
        "    model2 = model2.cuda()"
      ],
      "metadata": {
        "id": "IPt3HbunH-61"
      },
      "execution_count": 17,
      "outputs": []
    },
    {
      "cell_type": "code",
      "source": [
        "num_epochs = 15\n",
        "train_losses = []\n",
        "val_losses = []\n",
        "\n",
        "for epoch in range(num_epochs):\n",
        "    # Training\n",
        "    model2.train()\n",
        "    train_loss = 0.0\n",
        "    for data in train_loader:\n",
        "        inputs, _ = data\n",
        "        if torch.cuda.is_available():\n",
        "            inputs = inputs.cuda()\n",
        "\n",
        "        optimizer.zero_grad()\n",
        "\n",
        "        # Forward pass\n",
        "        outputs = model2(inputs)\n",
        "        loss = criterion(outputs, inputs)\n",
        "\n",
        "        # Backward pass and optimize\n",
        "        loss.backward()\n",
        "        optimizer.step()\n",
        "\n",
        "        train_loss += loss.item()\n",
        "\n",
        "    train_loss /= len(train_loader)\n",
        "    train_losses.append(train_loss)\n",
        "    print(f'Epoch [{epoch+1}/{num_epochs}], Training Loss: {train_loss:.4f}')\n",
        "\n",
        "    # Validation\n",
        "    model2.eval()\n",
        "    validation_loss = 0.0\n",
        "    with torch.no_grad():\n",
        "        for inputs, _ in val_loader:\n",
        "            if torch.cuda.is_available():\n",
        "                inputs = inputs.cuda()\n",
        "\n",
        "            outputs = model2(inputs)\n",
        "            loss = criterion(outputs, inputs)\n",
        "            validation_loss += loss.item()\n",
        "\n",
        "        validation_loss /= len(val_loader)\n",
        "        val_losses.append(validation_loss)\n",
        "        print(f'Validation Loss after epoch {epoch+1}: {validation_loss:.4f}')"
      ],
      "metadata": {
        "colab": {
          "base_uri": "https://localhost:8080/"
        },
        "id": "dQQFEQo5Qy6N",
        "outputId": "1d83cf09-7962-40f9-a4ed-6a457b0f6440"
      },
      "execution_count": 18,
      "outputs": [
        {
          "output_type": "stream",
          "name": "stdout",
          "text": [
            "Epoch [1/15], Training Loss: 0.5445\n",
            "Validation Loss after epoch 1: 0.3002\n",
            "Epoch [2/15], Training Loss: 0.2386\n",
            "Validation Loss after epoch 2: 0.2009\n",
            "Epoch [3/15], Training Loss: 0.1834\n",
            "Validation Loss after epoch 3: 0.1708\n",
            "Epoch [4/15], Training Loss: 0.1657\n",
            "Validation Loss after epoch 4: 0.1606\n",
            "Epoch [5/15], Training Loss: 0.1583\n",
            "Validation Loss after epoch 5: 0.1549\n",
            "Epoch [6/15], Training Loss: 0.1537\n",
            "Validation Loss after epoch 6: 0.1514\n",
            "Epoch [7/15], Training Loss: 0.1501\n",
            "Validation Loss after epoch 7: 0.1478\n",
            "Epoch [8/15], Training Loss: 0.1465\n",
            "Validation Loss after epoch 8: 0.1437\n",
            "Epoch [9/15], Training Loss: 0.1414\n",
            "Validation Loss after epoch 9: 0.1378\n",
            "Epoch [10/15], Training Loss: 0.1360\n",
            "Validation Loss after epoch 10: 0.1337\n",
            "Epoch [11/15], Training Loss: 0.1325\n",
            "Validation Loss after epoch 11: 0.1308\n",
            "Epoch [12/15], Training Loss: 0.1301\n",
            "Validation Loss after epoch 12: 0.1287\n",
            "Epoch [13/15], Training Loss: 0.1282\n",
            "Validation Loss after epoch 13: 0.1271\n",
            "Epoch [14/15], Training Loss: 0.1266\n",
            "Validation Loss after epoch 14: 0.1256\n",
            "Epoch [15/15], Training Loss: 0.1253\n",
            "Validation Loss after epoch 15: 0.1244\n"
          ]
        }
      ]
    },
    {
      "cell_type": "code",
      "source": [
        "model2.eval()\n",
        "test_loss = 0.0\n",
        "with torch.no_grad():\n",
        "    for inputs, _ in test_loader:\n",
        "        if torch.cuda.is_available():\n",
        "            inputs = inputs.cuda()\n",
        "\n",
        "        outputs = model2(inputs)\n",
        "        loss = criterion(outputs, inputs)\n",
        "        test_loss += loss.item()\n",
        "\n",
        "    test_loss /= len(test_loader)\n",
        "    print(f'Test Loss: {test_loss:.4f}')"
      ],
      "metadata": {
        "colab": {
          "base_uri": "https://localhost:8080/"
        },
        "id": "GeHrr5y1RBic",
        "outputId": "ad24a944-9069-467b-b0cd-8eecf9fd3f3d"
      },
      "execution_count": 19,
      "outputs": [
        {
          "output_type": "stream",
          "name": "stdout",
          "text": [
            "Test Loss: 0.1242\n"
          ]
        }
      ]
    },
    {
      "cell_type": "markdown",
      "source": [
        "The increase in test loss in the simplified model (without the third convolutional layer) indicates that the removed layer contributed to the model's ability to capture and reconstruct the important features of the input data."
      ],
      "metadata": {
        "id": "zZfv5hnkULIJ"
      }
    },
    {
      "cell_type": "markdown",
      "source": [
        "Now let's check what happens if we change the filter size (padding is adjusted to 2)"
      ],
      "metadata": {
        "id": "ny0vzZkfXOIw"
      }
    },
    {
      "cell_type": "code",
      "source": [
        "import torch.nn as nn\n",
        "\n",
        "class ConvAutoencoder3(nn.Module):\n",
        "    def __init__(self):\n",
        "        super(ConvAutoencoder3, self).__init__()\n",
        "\n",
        "        # Encoder\n",
        "        self.encoder = nn.Sequential(\n",
        "            # First Convolutional Layer with 5x5 filters (Input: 32x32x3, Output: 32x32x8)\n",
        "            nn.Conv2d(3, 8, 5, stride=1, padding=2),\n",
        "            nn.ReLU(),\n",
        "            nn.MaxPool2d(2, 2),  # First Max Pooling (Output: 16x16x8)\n",
        "\n",
        "            # Second Convolutional Layer with 5x5 filters (Output: 16x16x12)\n",
        "            nn.Conv2d(8, 12, 5, stride=1, padding=2),\n",
        "            nn.ReLU(),\n",
        "            nn.MaxPool2d(2, 2),  # Second Max Pooling (Output: 8x8x12)\n",
        "\n",
        "            # Third Convolutional Layer with 5x5 filters (Output: 8x8x16)\n",
        "            nn.Conv2d(12, 16, 5, stride=1, padding=2),\n",
        "            nn.ReLU()\n",
        "        )\n",
        "\n",
        "        # Decoder\n",
        "        self.decoder = nn.Sequential(\n",
        "            # First Upsampling (Input: 8x8x16, Output: 16x16x16)\n",
        "            nn.ConvTranspose2d(16, 12, 2, stride=2),\n",
        "            nn.ReLU(),\n",
        "\n",
        "            # Fourth Convolutional Layer with 5x5 filters (Output: 16x16x12)\n",
        "            nn.Conv2d(12, 12, 5, stride=1, padding=2),\n",
        "            nn.ReLU(),\n",
        "\n",
        "            # Second Upsampling (Output: 32x32x12)\n",
        "            nn.ConvTranspose2d(12, 8, 2, stride=2),\n",
        "            nn.ReLU(),\n",
        "\n",
        "            # Fifth Convolutional Layer with 5x5 filters (Output: 32x32x3)\n",
        "            nn.Conv2d(8, 3, 5, stride=1, padding=2),\n",
        "            nn.Sigmoid()  # If the input images are normalized between 0 and 1\n",
        "        )\n",
        "\n",
        "    def forward(self, x):\n",
        "        x = self.encoder(x)\n",
        "        x = self.decoder(x)\n",
        "        return x"
      ],
      "metadata": {
        "id": "T876OgTKXYYz"
      },
      "execution_count": 20,
      "outputs": []
    },
    {
      "cell_type": "code",
      "source": [
        "# Initializing the model\n",
        "model3 = ConvAutoencoder2()\n",
        "\n",
        "criterion = nn.MSELoss() # Loss function\n",
        "\n",
        "optimizer = optim.Adam(model3.parameters(), lr=0.001)\n",
        "\n",
        "if torch.cuda.is_available():\n",
        "    model3 = model3.cuda()"
      ],
      "metadata": {
        "id": "yT5zojSOXdFH"
      },
      "execution_count": 21,
      "outputs": []
    },
    {
      "cell_type": "code",
      "source": [
        "num_epochs = 15\n",
        "train_losses = []\n",
        "val_losses = []\n",
        "\n",
        "for epoch in range(num_epochs):\n",
        "    # Training\n",
        "    model3.train()\n",
        "    train_loss = 0.0\n",
        "    for data in train_loader:\n",
        "        inputs, _ = data\n",
        "        if torch.cuda.is_available():\n",
        "            inputs = inputs.cuda()\n",
        "\n",
        "        optimizer.zero_grad()\n",
        "\n",
        "        # Forward pass\n",
        "        outputs = model3(inputs)\n",
        "        loss = criterion(outputs, inputs)\n",
        "\n",
        "        # Backward pass and optimize\n",
        "        loss.backward()\n",
        "        optimizer.step()\n",
        "\n",
        "        train_loss += loss.item()\n",
        "\n",
        "    train_loss /= len(train_loader)\n",
        "    train_losses.append(train_loss)\n",
        "    print(f'Epoch [{epoch+1}/{num_epochs}], Training Loss: {train_loss:.4f}')\n",
        "\n",
        "    # Validation\n",
        "    model3.eval()\n",
        "    validation_loss = 0.0\n",
        "    with torch.no_grad():\n",
        "        for inputs, _ in val_loader:\n",
        "            if torch.cuda.is_available():\n",
        "                inputs = inputs.cuda()\n",
        "\n",
        "            outputs = model3(inputs)\n",
        "            loss = criterion(outputs, inputs)\n",
        "            validation_loss += loss.item()\n",
        "\n",
        "        validation_loss /= len(val_loader)\n",
        "        val_losses.append(validation_loss)\n",
        "        print(f'Validation Loss after epoch {epoch+1}: {validation_loss:.4f}')"
      ],
      "metadata": {
        "colab": {
          "base_uri": "https://localhost:8080/"
        },
        "id": "EiKnbKWJXwVV",
        "outputId": "e781b16a-62df-4756-c8b0-2dfee1f4a22f"
      },
      "execution_count": 22,
      "outputs": [
        {
          "output_type": "stream",
          "name": "stdout",
          "text": [
            "Epoch [1/15], Training Loss: 0.6079\n",
            "Validation Loss after epoch 1: 0.3188\n",
            "Epoch [2/15], Training Loss: 0.2860\n",
            "Validation Loss after epoch 2: 0.2142\n",
            "Epoch [3/15], Training Loss: 0.1834\n",
            "Validation Loss after epoch 3: 0.1683\n",
            "Epoch [4/15], Training Loss: 0.1632\n",
            "Validation Loss after epoch 4: 0.1576\n",
            "Epoch [5/15], Training Loss: 0.1549\n",
            "Validation Loss after epoch 5: 0.1512\n",
            "Epoch [6/15], Training Loss: 0.1500\n",
            "Validation Loss after epoch 6: 0.1477\n",
            "Epoch [7/15], Training Loss: 0.1467\n",
            "Validation Loss after epoch 7: 0.1446\n",
            "Epoch [8/15], Training Loss: 0.1436\n",
            "Validation Loss after epoch 8: 0.1415\n",
            "Epoch [9/15], Training Loss: 0.1401\n",
            "Validation Loss after epoch 9: 0.1381\n",
            "Epoch [10/15], Training Loss: 0.1358\n",
            "Validation Loss after epoch 10: 0.1331\n",
            "Epoch [11/15], Training Loss: 0.1308\n",
            "Validation Loss after epoch 11: 0.1282\n",
            "Epoch [12/15], Training Loss: 0.1268\n",
            "Validation Loss after epoch 12: 0.1260\n",
            "Epoch [13/15], Training Loss: 0.1244\n",
            "Validation Loss after epoch 13: 0.1232\n",
            "Epoch [14/15], Training Loss: 0.1227\n",
            "Validation Loss after epoch 14: 0.1217\n",
            "Epoch [15/15], Training Loss: 0.1212\n",
            "Validation Loss after epoch 15: 0.1204\n"
          ]
        }
      ]
    },
    {
      "cell_type": "code",
      "source": [
        "model3.eval()\n",
        "test_loss = 0.0\n",
        "with torch.no_grad():\n",
        "    for inputs, _ in test_loader:\n",
        "        if torch.cuda.is_available():\n",
        "            inputs = inputs.cuda()\n",
        "\n",
        "        outputs = model3(inputs)\n",
        "        loss = criterion(outputs, inputs)\n",
        "        test_loss += loss.item()\n",
        "\n",
        "    test_loss /= len(test_loader)\n",
        "    print(f'Test Loss: {test_loss:.4f}')"
      ],
      "metadata": {
        "colab": {
          "base_uri": "https://localhost:8080/"
        },
        "id": "C15oeVLzX7ed",
        "outputId": "0bc2b400-6503-4f5d-b2eb-45b50efae8b4"
      },
      "execution_count": 23,
      "outputs": [
        {
          "output_type": "stream",
          "name": "stdout",
          "text": [
            "Test Loss: 0.1200\n"
          ]
        }
      ]
    },
    {
      "cell_type": "markdown",
      "source": [
        "Since CIFAR-10 contains small, 32x32 pixel images, where each pixel's information can be crucial, we lost some information by increasing the filter size."
      ],
      "metadata": {
        "id": "v3r8PN9Za9FU"
      }
    },
    {
      "cell_type": "code",
      "source": [],
      "metadata": {
        "id": "tc15afKoa-nW"
      },
      "execution_count": null,
      "outputs": []
    }
  ]
}