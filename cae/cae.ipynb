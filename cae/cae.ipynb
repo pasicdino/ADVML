{
 "cells": [
  {
   "cell_type": "code",
   "execution_count": 10,
   "metadata": {
    "collapsed": true
   },
   "outputs": [],
   "source": [
    "import torch\n",
    "import torchvision\n",
    "import torchvision.datasets as datasets\n",
    "from torch.utils.data import ConcatDataset\n",
    "from torch.utils.data import random_split"
   ]
  },
  {
   "cell_type": "markdown",
   "source": [
    "We can load the dataset using the torchvision.datasets.CIFAR10() class.\n",
    "It takes a train parameter, offering an automatic split of test/train, but it is an 83%/17% split, so we concat both versions into the full 60.000 image dataset."
   ],
   "metadata": {
    "collapsed": false
   }
  },
  {
   "cell_type": "code",
   "execution_count": 7,
   "outputs": [],
   "source": [
    "#Download = True if the images are not present in the root folder (i.e. first time running)\n",
    "download = False\n",
    "dataset = ConcatDataset([datasets.CIFAR10(root='./data', train=True, download=download, transform=None), datasets.CIFAR10(root='./data', train=False, download=download, transform=None)])"
   ],
   "metadata": {
    "collapsed": false
   }
  },
  {
   "cell_type": "markdown",
   "source": [
    "And then we split the whole dataset into an 80/10/10 split."
   ],
   "metadata": {
    "collapsed": false
   }
  },
  {
   "cell_type": "code",
   "execution_count": 12,
   "outputs": [],
   "source": [
    "total_size = len(dataset)\n",
    "train_size = int(total_size*0.8)\n",
    "test_size = int(total_size*0.1)\n",
    "val_size = int(total_size*0.1)\n",
    "\n",
    "trainset, testset, valset = random_split(dataset, [train_size, test_size, val_size])"
   ],
   "metadata": {
    "collapsed": false
   }
  },
  {
   "cell_type": "code",
   "execution_count": null,
   "outputs": [],
   "source": [],
   "metadata": {
    "collapsed": false
   }
  }
 ],
 "metadata": {
  "kernelspec": {
   "display_name": "Python 3",
   "language": "python",
   "name": "python3"
  },
  "language_info": {
   "codemirror_mode": {
    "name": "ipython",
    "version": 2
   },
   "file_extension": ".py",
   "mimetype": "text/x-python",
   "name": "python",
   "nbconvert_exporter": "python",
   "pygments_lexer": "ipython2",
   "version": "2.7.6"
  }
 },
 "nbformat": 4,
 "nbformat_minor": 0
}
